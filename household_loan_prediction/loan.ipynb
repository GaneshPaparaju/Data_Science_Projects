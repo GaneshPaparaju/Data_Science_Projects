{
 "cells": [
  {
   "cell_type": "code",
   "execution_count": 1,
   "id": "fc526805",
   "metadata": {},
   "outputs": [],
   "source": [
    "import pandas as pd\n",
    "import numpy as np\n",
    "import matplotlib.pyplot as plt\n",
    "import seaborn as sns"
   ]
  },
  {
   "cell_type": "code",
   "execution_count": 6,
   "id": "f14f4874",
   "metadata": {
    "scrolled": true
   },
   "outputs": [],
   "source": [
    "column_names=[\"People in Household\",\"Income of Household\",\"Income Source\",\"Vehicle Type\",\"Loan Required\"]\n",
    "data = pd.read_excel('HouseholdData.xlsx', sheet_name='Sheet 1 - Household_data',header=None, names=column_names)"
   ]
  },
  {
   "cell_type": "code",
   "execution_count": 7,
   "id": "68265f19",
   "metadata": {},
   "outputs": [
    {
     "data": {
      "text/html": [
       "<div>\n",
       "<style scoped>\n",
       "    .dataframe tbody tr th:only-of-type {\n",
       "        vertical-align: middle;\n",
       "    }\n",
       "\n",
       "    .dataframe tbody tr th {\n",
       "        vertical-align: top;\n",
       "    }\n",
       "\n",
       "    .dataframe thead th {\n",
       "        text-align: right;\n",
       "    }\n",
       "</style>\n",
       "<table border=\"1\" class=\"dataframe\">\n",
       "  <thead>\n",
       "    <tr style=\"text-align: right;\">\n",
       "      <th></th>\n",
       "      <th>People in Household</th>\n",
       "      <th>Income of Household</th>\n",
       "      <th>Income Source</th>\n",
       "      <th>Vehicle Type</th>\n",
       "      <th>Loan Required</th>\n",
       "    </tr>\n",
       "  </thead>\n",
       "  <tbody>\n",
       "    <tr>\n",
       "      <th>0</th>\n",
       "      <td>Household_data</td>\n",
       "      <td>NaN</td>\n",
       "      <td>NaN</td>\n",
       "      <td>NaN</td>\n",
       "      <td>NaN</td>\n",
       "    </tr>\n",
       "    <tr>\n",
       "      <th>1</th>\n",
       "      <td>People in Household</td>\n",
       "      <td>Income of Household</td>\n",
       "      <td>Income Source</td>\n",
       "      <td>Vehicle Type</td>\n",
       "      <td>Loan Required</td>\n",
       "    </tr>\n",
       "    <tr>\n",
       "      <th>2</th>\n",
       "      <td>10</td>\n",
       "      <td>3175</td>\n",
       "      <td>Business</td>\n",
       "      <td>Car</td>\n",
       "      <td>Yes</td>\n",
       "    </tr>\n",
       "    <tr>\n",
       "      <th>3</th>\n",
       "      <td>4</td>\n",
       "      <td>14420</td>\n",
       "      <td>Job</td>\n",
       "      <td>Scooter</td>\n",
       "      <td>Yes</td>\n",
       "    </tr>\n",
       "    <tr>\n",
       "      <th>4</th>\n",
       "      <td>9</td>\n",
       "      <td>14432</td>\n",
       "      <td>Business</td>\n",
       "      <td>Scooter</td>\n",
       "      <td>No</td>\n",
       "    </tr>\n",
       "    <tr>\n",
       "      <th>...</th>\n",
       "      <td>...</td>\n",
       "      <td>...</td>\n",
       "      <td>...</td>\n",
       "      <td>...</td>\n",
       "      <td>...</td>\n",
       "    </tr>\n",
       "    <tr>\n",
       "      <th>1208</th>\n",
       "      <td>7</td>\n",
       "      <td>9581</td>\n",
       "      <td>Job</td>\n",
       "      <td>Car</td>\n",
       "      <td>Yes</td>\n",
       "    </tr>\n",
       "    <tr>\n",
       "      <th>1209</th>\n",
       "      <td>9</td>\n",
       "      <td>13745</td>\n",
       "      <td>Job</td>\n",
       "      <td>Sports Car</td>\n",
       "      <td>No</td>\n",
       "    </tr>\n",
       "    <tr>\n",
       "      <th>1210</th>\n",
       "      <td>3</td>\n",
       "      <td>10985</td>\n",
       "      <td>Job</td>\n",
       "      <td>Trackter</td>\n",
       "      <td>No</td>\n",
       "    </tr>\n",
       "    <tr>\n",
       "      <th>1211</th>\n",
       "      <td>7</td>\n",
       "      <td>6051</td>\n",
       "      <td>Business</td>\n",
       "      <td>Car</td>\n",
       "      <td>Yes</td>\n",
       "    </tr>\n",
       "    <tr>\n",
       "      <th>1212</th>\n",
       "      <td>6</td>\n",
       "      <td>14058</td>\n",
       "      <td>Business</td>\n",
       "      <td>Car</td>\n",
       "      <td>Yes</td>\n",
       "    </tr>\n",
       "  </tbody>\n",
       "</table>\n",
       "<p>1213 rows × 5 columns</p>\n",
       "</div>"
      ],
      "text/plain": [
       "      People in Household  Income of Household  Income Source  Vehicle Type  \\\n",
       "0          Household_data                  NaN            NaN           NaN   \n",
       "1     People in Household  Income of Household  Income Source  Vehicle Type   \n",
       "2                      10                 3175       Business           Car   \n",
       "3                       4                14420            Job       Scooter   \n",
       "4                       9                14432       Business       Scooter   \n",
       "...                   ...                  ...            ...           ...   \n",
       "1208                    7                 9581            Job           Car   \n",
       "1209                    9                13745            Job    Sports Car   \n",
       "1210                    3                10985            Job      Trackter   \n",
       "1211                    7                 6051       Business           Car   \n",
       "1212                    6                14058       Business           Car   \n",
       "\n",
       "      Loan Required  \n",
       "0               NaN  \n",
       "1     Loan Required  \n",
       "2               Yes  \n",
       "3               Yes  \n",
       "4                No  \n",
       "...             ...  \n",
       "1208            Yes  \n",
       "1209             No  \n",
       "1210             No  \n",
       "1211            Yes  \n",
       "1212            Yes  \n",
       "\n",
       "[1213 rows x 5 columns]"
      ]
     },
     "execution_count": 7,
     "metadata": {},
     "output_type": "execute_result"
    }
   ],
   "source": [
    "data"
   ]
  },
  {
   "cell_type": "code",
   "execution_count": 8,
   "id": "611d8caf",
   "metadata": {},
   "outputs": [],
   "source": [
    "df=data.iloc[2:,:]"
   ]
  },
  {
   "cell_type": "code",
   "execution_count": 9,
   "id": "9ede6cda",
   "metadata": {},
   "outputs": [
    {
     "data": {
      "text/html": [
       "<div>\n",
       "<style scoped>\n",
       "    .dataframe tbody tr th:only-of-type {\n",
       "        vertical-align: middle;\n",
       "    }\n",
       "\n",
       "    .dataframe tbody tr th {\n",
       "        vertical-align: top;\n",
       "    }\n",
       "\n",
       "    .dataframe thead th {\n",
       "        text-align: right;\n",
       "    }\n",
       "</style>\n",
       "<table border=\"1\" class=\"dataframe\">\n",
       "  <thead>\n",
       "    <tr style=\"text-align: right;\">\n",
       "      <th></th>\n",
       "      <th>People in Household</th>\n",
       "      <th>Income of Household</th>\n",
       "      <th>Income Source</th>\n",
       "      <th>Vehicle Type</th>\n",
       "      <th>Loan Required</th>\n",
       "    </tr>\n",
       "  </thead>\n",
       "  <tbody>\n",
       "    <tr>\n",
       "      <th>0</th>\n",
       "      <td>10</td>\n",
       "      <td>3175</td>\n",
       "      <td>Business</td>\n",
       "      <td>Car</td>\n",
       "      <td>Yes</td>\n",
       "    </tr>\n",
       "    <tr>\n",
       "      <th>1</th>\n",
       "      <td>4</td>\n",
       "      <td>14420</td>\n",
       "      <td>Job</td>\n",
       "      <td>Scooter</td>\n",
       "      <td>Yes</td>\n",
       "    </tr>\n",
       "    <tr>\n",
       "      <th>2</th>\n",
       "      <td>9</td>\n",
       "      <td>14432</td>\n",
       "      <td>Business</td>\n",
       "      <td>Scooter</td>\n",
       "      <td>No</td>\n",
       "    </tr>\n",
       "    <tr>\n",
       "      <th>3</th>\n",
       "      <td>7</td>\n",
       "      <td>13222</td>\n",
       "      <td>Business</td>\n",
       "      <td>Trackter</td>\n",
       "      <td>No</td>\n",
       "    </tr>\n",
       "    <tr>\n",
       "      <th>4</th>\n",
       "      <td>8</td>\n",
       "      <td>8116</td>\n",
       "      <td>Job</td>\n",
       "      <td>Bicycle</td>\n",
       "      <td>No</td>\n",
       "    </tr>\n",
       "    <tr>\n",
       "      <th>...</th>\n",
       "      <td>...</td>\n",
       "      <td>...</td>\n",
       "      <td>...</td>\n",
       "      <td>...</td>\n",
       "      <td>...</td>\n",
       "    </tr>\n",
       "    <tr>\n",
       "      <th>1206</th>\n",
       "      <td>7</td>\n",
       "      <td>9581</td>\n",
       "      <td>Job</td>\n",
       "      <td>Car</td>\n",
       "      <td>Yes</td>\n",
       "    </tr>\n",
       "    <tr>\n",
       "      <th>1207</th>\n",
       "      <td>9</td>\n",
       "      <td>13745</td>\n",
       "      <td>Job</td>\n",
       "      <td>Sports Car</td>\n",
       "      <td>No</td>\n",
       "    </tr>\n",
       "    <tr>\n",
       "      <th>1208</th>\n",
       "      <td>3</td>\n",
       "      <td>10985</td>\n",
       "      <td>Job</td>\n",
       "      <td>Trackter</td>\n",
       "      <td>No</td>\n",
       "    </tr>\n",
       "    <tr>\n",
       "      <th>1209</th>\n",
       "      <td>7</td>\n",
       "      <td>6051</td>\n",
       "      <td>Business</td>\n",
       "      <td>Car</td>\n",
       "      <td>Yes</td>\n",
       "    </tr>\n",
       "    <tr>\n",
       "      <th>1210</th>\n",
       "      <td>6</td>\n",
       "      <td>14058</td>\n",
       "      <td>Business</td>\n",
       "      <td>Car</td>\n",
       "      <td>Yes</td>\n",
       "    </tr>\n",
       "  </tbody>\n",
       "</table>\n",
       "<p>1211 rows × 5 columns</p>\n",
       "</div>"
      ],
      "text/plain": [
       "     People in Household Income of Household Income Source Vehicle Type  \\\n",
       "0                     10                3175      Business          Car   \n",
       "1                      4               14420           Job      Scooter   \n",
       "2                      9               14432      Business      Scooter   \n",
       "3                      7               13222      Business     Trackter   \n",
       "4                      8                8116           Job      Bicycle   \n",
       "...                  ...                 ...           ...          ...   \n",
       "1206                   7                9581           Job          Car   \n",
       "1207                   9               13745           Job   Sports Car   \n",
       "1208                   3               10985           Job     Trackter   \n",
       "1209                   7                6051      Business          Car   \n",
       "1210                   6               14058      Business          Car   \n",
       "\n",
       "     Loan Required  \n",
       "0              Yes  \n",
       "1              Yes  \n",
       "2               No  \n",
       "3               No  \n",
       "4               No  \n",
       "...            ...  \n",
       "1206           Yes  \n",
       "1207            No  \n",
       "1208            No  \n",
       "1209           Yes  \n",
       "1210           Yes  \n",
       "\n",
       "[1211 rows x 5 columns]"
      ]
     },
     "execution_count": 9,
     "metadata": {},
     "output_type": "execute_result"
    }
   ],
   "source": [
    "df.reset_index().drop(columns=\"index\")"
   ]
  },
  {
   "cell_type": "code",
   "execution_count": 10,
   "id": "9bc7e7d6",
   "metadata": {},
   "outputs": [
    {
     "data": {
      "text/html": [
       "<div>\n",
       "<style scoped>\n",
       "    .dataframe tbody tr th:only-of-type {\n",
       "        vertical-align: middle;\n",
       "    }\n",
       "\n",
       "    .dataframe tbody tr th {\n",
       "        vertical-align: top;\n",
       "    }\n",
       "\n",
       "    .dataframe thead th {\n",
       "        text-align: right;\n",
       "    }\n",
       "</style>\n",
       "<table border=\"1\" class=\"dataframe\">\n",
       "  <thead>\n",
       "    <tr style=\"text-align: right;\">\n",
       "      <th></th>\n",
       "      <th>People in Household</th>\n",
       "      <th>Income of Household</th>\n",
       "      <th>Income Source</th>\n",
       "      <th>Vehicle Type</th>\n",
       "      <th>Loan Required</th>\n",
       "    </tr>\n",
       "  </thead>\n",
       "  <tbody>\n",
       "    <tr>\n",
       "      <th>2</th>\n",
       "      <td>10</td>\n",
       "      <td>3175</td>\n",
       "      <td>Business</td>\n",
       "      <td>Car</td>\n",
       "      <td>Yes</td>\n",
       "    </tr>\n",
       "    <tr>\n",
       "      <th>3</th>\n",
       "      <td>4</td>\n",
       "      <td>14420</td>\n",
       "      <td>Job</td>\n",
       "      <td>Scooter</td>\n",
       "      <td>Yes</td>\n",
       "    </tr>\n",
       "    <tr>\n",
       "      <th>4</th>\n",
       "      <td>9</td>\n",
       "      <td>14432</td>\n",
       "      <td>Business</td>\n",
       "      <td>Scooter</td>\n",
       "      <td>No</td>\n",
       "    </tr>\n",
       "    <tr>\n",
       "      <th>5</th>\n",
       "      <td>7</td>\n",
       "      <td>13222</td>\n",
       "      <td>Business</td>\n",
       "      <td>Trackter</td>\n",
       "      <td>No</td>\n",
       "    </tr>\n",
       "    <tr>\n",
       "      <th>6</th>\n",
       "      <td>8</td>\n",
       "      <td>8116</td>\n",
       "      <td>Job</td>\n",
       "      <td>Bicycle</td>\n",
       "      <td>No</td>\n",
       "    </tr>\n",
       "    <tr>\n",
       "      <th>...</th>\n",
       "      <td>...</td>\n",
       "      <td>...</td>\n",
       "      <td>...</td>\n",
       "      <td>...</td>\n",
       "      <td>...</td>\n",
       "    </tr>\n",
       "    <tr>\n",
       "      <th>1208</th>\n",
       "      <td>7</td>\n",
       "      <td>9581</td>\n",
       "      <td>Job</td>\n",
       "      <td>Car</td>\n",
       "      <td>Yes</td>\n",
       "    </tr>\n",
       "    <tr>\n",
       "      <th>1209</th>\n",
       "      <td>9</td>\n",
       "      <td>13745</td>\n",
       "      <td>Job</td>\n",
       "      <td>Sports Car</td>\n",
       "      <td>No</td>\n",
       "    </tr>\n",
       "    <tr>\n",
       "      <th>1210</th>\n",
       "      <td>3</td>\n",
       "      <td>10985</td>\n",
       "      <td>Job</td>\n",
       "      <td>Trackter</td>\n",
       "      <td>No</td>\n",
       "    </tr>\n",
       "    <tr>\n",
       "      <th>1211</th>\n",
       "      <td>7</td>\n",
       "      <td>6051</td>\n",
       "      <td>Business</td>\n",
       "      <td>Car</td>\n",
       "      <td>Yes</td>\n",
       "    </tr>\n",
       "    <tr>\n",
       "      <th>1212</th>\n",
       "      <td>6</td>\n",
       "      <td>14058</td>\n",
       "      <td>Business</td>\n",
       "      <td>Car</td>\n",
       "      <td>Yes</td>\n",
       "    </tr>\n",
       "  </tbody>\n",
       "</table>\n",
       "<p>1211 rows × 5 columns</p>\n",
       "</div>"
      ],
      "text/plain": [
       "     People in Household Income of Household Income Source Vehicle Type  \\\n",
       "2                     10                3175      Business          Car   \n",
       "3                      4               14420           Job      Scooter   \n",
       "4                      9               14432      Business      Scooter   \n",
       "5                      7               13222      Business     Trackter   \n",
       "6                      8                8116           Job      Bicycle   \n",
       "...                  ...                 ...           ...          ...   \n",
       "1208                   7                9581           Job          Car   \n",
       "1209                   9               13745           Job   Sports Car   \n",
       "1210                   3               10985           Job     Trackter   \n",
       "1211                   7                6051      Business          Car   \n",
       "1212                   6               14058      Business          Car   \n",
       "\n",
       "     Loan Required  \n",
       "2              Yes  \n",
       "3              Yes  \n",
       "4               No  \n",
       "5               No  \n",
       "6               No  \n",
       "...            ...  \n",
       "1208           Yes  \n",
       "1209            No  \n",
       "1210            No  \n",
       "1211           Yes  \n",
       "1212           Yes  \n",
       "\n",
       "[1211 rows x 5 columns]"
      ]
     },
     "execution_count": 10,
     "metadata": {},
     "output_type": "execute_result"
    }
   ],
   "source": [
    "df"
   ]
  },
  {
   "cell_type": "code",
   "execution_count": 11,
   "id": "23bb48e0",
   "metadata": {},
   "outputs": [
    {
     "data": {
      "text/html": [
       "<div>\n",
       "<style scoped>\n",
       "    .dataframe tbody tr th:only-of-type {\n",
       "        vertical-align: middle;\n",
       "    }\n",
       "\n",
       "    .dataframe tbody tr th {\n",
       "        vertical-align: top;\n",
       "    }\n",
       "\n",
       "    .dataframe thead th {\n",
       "        text-align: right;\n",
       "    }\n",
       "</style>\n",
       "<table border=\"1\" class=\"dataframe\">\n",
       "  <thead>\n",
       "    <tr style=\"text-align: right;\">\n",
       "      <th></th>\n",
       "      <th>People in Household</th>\n",
       "      <th>Income of Household</th>\n",
       "      <th>Income Source</th>\n",
       "      <th>Vehicle Type</th>\n",
       "      <th>Loan Required</th>\n",
       "    </tr>\n",
       "  </thead>\n",
       "  <tbody>\n",
       "    <tr>\n",
       "      <th>count</th>\n",
       "      <td>1211</td>\n",
       "      <td>1211</td>\n",
       "      <td>1205</td>\n",
       "      <td>1211</td>\n",
       "      <td>1205</td>\n",
       "    </tr>\n",
       "    <tr>\n",
       "      <th>unique</th>\n",
       "      <td>8</td>\n",
       "      <td>1148</td>\n",
       "      <td>8</td>\n",
       "      <td>5</td>\n",
       "      <td>3</td>\n",
       "    </tr>\n",
       "    <tr>\n",
       "      <th>top</th>\n",
       "      <td>10</td>\n",
       "      <td>4131</td>\n",
       "      <td>Business</td>\n",
       "      <td>Car</td>\n",
       "      <td>Yes</td>\n",
       "    </tr>\n",
       "    <tr>\n",
       "      <th>freq</th>\n",
       "      <td>175</td>\n",
       "      <td>3</td>\n",
       "      <td>541</td>\n",
       "      <td>485</td>\n",
       "      <td>650</td>\n",
       "    </tr>\n",
       "  </tbody>\n",
       "</table>\n",
       "</div>"
      ],
      "text/plain": [
       "        People in Household  Income of Household Income Source Vehicle Type  \\\n",
       "count                  1211                 1211          1205         1211   \n",
       "unique                    8                 1148             8            5   \n",
       "top                      10                 4131      Business          Car   \n",
       "freq                    175                    3           541          485   \n",
       "\n",
       "       Loan Required  \n",
       "count           1205  \n",
       "unique             3  \n",
       "top              Yes  \n",
       "freq             650  "
      ]
     },
     "execution_count": 11,
     "metadata": {},
     "output_type": "execute_result"
    }
   ],
   "source": [
    "df.describe()\n"
   ]
  },
  {
   "cell_type": "code",
   "execution_count": 12,
   "id": "38427f47",
   "metadata": {},
   "outputs": [
    {
     "name": "stdout",
     "output_type": "stream",
     "text": [
      "People in Household\n",
      "10    175\n",
      "3     164\n",
      "9     158\n",
      "5     158\n",
      "8     145\n",
      "6     138\n",
      "7     137\n",
      "4     136\n",
      "Name: count, dtype: int64\n",
      "=============================================================================\n",
      "Income of Household\n",
      "4131     3\n",
      "10536    3\n",
      "3175     2\n",
      "9757     2\n",
      "11819    2\n",
      "        ..\n",
      "4123     1\n",
      "4041     1\n",
      "8426     1\n",
      "6463     1\n",
      "14058    1\n",
      "Name: count, Length: 1148, dtype: int64\n",
      "=============================================================================\n",
      "Income Source\n",
      "Business         541\n",
      "Job              463\n",
      "Agriculture       39\n",
      "Real Estate       37\n",
      "Film Industry     36\n",
      "Teacher           36\n",
      "MSME              36\n",
      "Scientist         17\n",
      "Name: count, dtype: int64\n",
      "=============================================================================\n",
      "Vehicle Type\n",
      "Car           485\n",
      "Scooter       242\n",
      "Trackter      242\n",
      "Bicycle       121\n",
      "Sports Car    121\n",
      "Name: count, dtype: int64\n",
      "=============================================================================\n",
      "Loan Required\n",
      "Yes    650\n",
      "No     554\n",
      "no       1\n",
      "Name: count, dtype: int64\n",
      "=============================================================================\n",
      "5\n"
     ]
    }
   ],
   "source": [
    "count=0\n",
    "for col in df.columns:\n",
    "    if np.dtype(df[col]) == 'O':\n",
    "        print(df[col].value_counts())\n",
    "        print(\"=============================================================================\")\n",
    "        count+=1\n",
    "    else:\n",
    "        continue\n",
    "print(count)"
   ]
  },
  {
   "cell_type": "code",
   "execution_count": 13,
   "id": "919c2a0b",
   "metadata": {},
   "outputs": [
    {
     "name": "stdout",
     "output_type": "stream",
     "text": [
      "Income Source\n",
      "6\n",
      "=============================================================================\n",
      "Loan Required\n",
      "6\n",
      "=============================================================================\n",
      "2\n"
     ]
    }
   ],
   "source": [
    "count=0\n",
    "for col in df.columns:\n",
    "    if df[col].isnull().sum() != 0:\n",
    "        print(col)\n",
    "        print(df[col].isnull().sum())\n",
    "        print(\"=============================================================================\")\n",
    "        count+=1\n",
    "    else:\n",
    "        continue\n",
    "print(count)"
   ]
  },
  {
   "cell_type": "code",
   "execution_count": 14,
   "id": "de5dd106",
   "metadata": {},
   "outputs": [
    {
     "data": {
      "text/html": [
       "<div>\n",
       "<style scoped>\n",
       "    .dataframe tbody tr th:only-of-type {\n",
       "        vertical-align: middle;\n",
       "    }\n",
       "\n",
       "    .dataframe tbody tr th {\n",
       "        vertical-align: top;\n",
       "    }\n",
       "\n",
       "    .dataframe thead th {\n",
       "        text-align: right;\n",
       "    }\n",
       "</style>\n",
       "<table border=\"1\" class=\"dataframe\">\n",
       "  <thead>\n",
       "    <tr style=\"text-align: right;\">\n",
       "      <th></th>\n",
       "      <th>People in Household</th>\n",
       "      <th>Income of Household</th>\n",
       "      <th>Income Source</th>\n",
       "      <th>Vehicle Type</th>\n",
       "      <th>Loan Required</th>\n",
       "    </tr>\n",
       "  </thead>\n",
       "  <tbody>\n",
       "    <tr>\n",
       "      <th>1130</th>\n",
       "      <td>4</td>\n",
       "      <td>5697</td>\n",
       "      <td>Business</td>\n",
       "      <td>Trackter</td>\n",
       "      <td>NaN</td>\n",
       "    </tr>\n",
       "    <tr>\n",
       "      <th>1131</th>\n",
       "      <td>3</td>\n",
       "      <td>10213</td>\n",
       "      <td>Film Industry</td>\n",
       "      <td>Car</td>\n",
       "      <td>NaN</td>\n",
       "    </tr>\n",
       "    <tr>\n",
       "      <th>1132</th>\n",
       "      <td>4</td>\n",
       "      <td>4383</td>\n",
       "      <td>Teacher</td>\n",
       "      <td>Car</td>\n",
       "      <td>NaN</td>\n",
       "    </tr>\n",
       "    <tr>\n",
       "      <th>1133</th>\n",
       "      <td>4</td>\n",
       "      <td>13833</td>\n",
       "      <td>MSME</td>\n",
       "      <td>Scooter</td>\n",
       "      <td>NaN</td>\n",
       "    </tr>\n",
       "    <tr>\n",
       "      <th>1134</th>\n",
       "      <td>4</td>\n",
       "      <td>9737</td>\n",
       "      <td>Real Estate</td>\n",
       "      <td>Scooter</td>\n",
       "      <td>NaN</td>\n",
       "    </tr>\n",
       "    <tr>\n",
       "      <th>1135</th>\n",
       "      <td>8</td>\n",
       "      <td>5463</td>\n",
       "      <td>Agriculture</td>\n",
       "      <td>Trackter</td>\n",
       "      <td>NaN</td>\n",
       "    </tr>\n",
       "  </tbody>\n",
       "</table>\n",
       "</div>"
      ],
      "text/plain": [
       "     People in Household Income of Household  Income Source Vehicle Type  \\\n",
       "1130                   4                5697       Business     Trackter   \n",
       "1131                   3               10213  Film Industry          Car   \n",
       "1132                   4                4383        Teacher          Car   \n",
       "1133                   4               13833           MSME      Scooter   \n",
       "1134                   4                9737    Real Estate      Scooter   \n",
       "1135                   8                5463    Agriculture     Trackter   \n",
       "\n",
       "     Loan Required  \n",
       "1130           NaN  \n",
       "1131           NaN  \n",
       "1132           NaN  \n",
       "1133           NaN  \n",
       "1134           NaN  \n",
       "1135           NaN  "
      ]
     },
     "execution_count": 14,
     "metadata": {},
     "output_type": "execute_result"
    }
   ],
   "source": [
    "df[df['Loan Required'].isnull()]\n"
   ]
  },
  {
   "cell_type": "code",
   "execution_count": 15,
   "id": "935d487d",
   "metadata": {},
   "outputs": [
    {
     "data": {
      "text/html": [
       "<div>\n",
       "<style scoped>\n",
       "    .dataframe tbody tr th:only-of-type {\n",
       "        vertical-align: middle;\n",
       "    }\n",
       "\n",
       "    .dataframe tbody tr th {\n",
       "        vertical-align: top;\n",
       "    }\n",
       "\n",
       "    .dataframe thead th {\n",
       "        text-align: right;\n",
       "    }\n",
       "</style>\n",
       "<table border=\"1\" class=\"dataframe\">\n",
       "  <thead>\n",
       "    <tr style=\"text-align: right;\">\n",
       "      <th></th>\n",
       "      <th>People in Household</th>\n",
       "      <th>Income of Household</th>\n",
       "      <th>Income Source</th>\n",
       "      <th>Vehicle Type</th>\n",
       "      <th>Loan Required</th>\n",
       "    </tr>\n",
       "  </thead>\n",
       "  <tbody>\n",
       "    <tr>\n",
       "      <th>463</th>\n",
       "      <td>9</td>\n",
       "      <td>4255</td>\n",
       "      <td>NaN</td>\n",
       "      <td>Scooter</td>\n",
       "      <td>No</td>\n",
       "    </tr>\n",
       "    <tr>\n",
       "      <th>464</th>\n",
       "      <td>4</td>\n",
       "      <td>11489</td>\n",
       "      <td>NaN</td>\n",
       "      <td>Scooter</td>\n",
       "      <td>Yes</td>\n",
       "    </tr>\n",
       "    <tr>\n",
       "      <th>465</th>\n",
       "      <td>3</td>\n",
       "      <td>5619</td>\n",
       "      <td>NaN</td>\n",
       "      <td>Trackter</td>\n",
       "      <td>No</td>\n",
       "    </tr>\n",
       "    <tr>\n",
       "      <th>744</th>\n",
       "      <td>5</td>\n",
       "      <td>6682</td>\n",
       "      <td>NaN</td>\n",
       "      <td>Scooter</td>\n",
       "      <td>Yes</td>\n",
       "    </tr>\n",
       "    <tr>\n",
       "      <th>745</th>\n",
       "      <td>8</td>\n",
       "      <td>4429</td>\n",
       "      <td>NaN</td>\n",
       "      <td>Trackter</td>\n",
       "      <td>Yes</td>\n",
       "    </tr>\n",
       "    <tr>\n",
       "      <th>746</th>\n",
       "      <td>3</td>\n",
       "      <td>3026</td>\n",
       "      <td>NaN</td>\n",
       "      <td>Bicycle</td>\n",
       "      <td>No</td>\n",
       "    </tr>\n",
       "  </tbody>\n",
       "</table>\n",
       "</div>"
      ],
      "text/plain": [
       "    People in Household Income of Household Income Source Vehicle Type  \\\n",
       "463                   9                4255           NaN      Scooter   \n",
       "464                   4               11489           NaN      Scooter   \n",
       "465                   3                5619           NaN     Trackter   \n",
       "744                   5                6682           NaN      Scooter   \n",
       "745                   8                4429           NaN     Trackter   \n",
       "746                   3                3026           NaN      Bicycle   \n",
       "\n",
       "    Loan Required  \n",
       "463            No  \n",
       "464           Yes  \n",
       "465            No  \n",
       "744           Yes  \n",
       "745           Yes  \n",
       "746            No  "
      ]
     },
     "execution_count": 15,
     "metadata": {},
     "output_type": "execute_result"
    }
   ],
   "source": [
    "df[df['Income Source'].isnull()]"
   ]
  },
  {
   "cell_type": "code",
   "execution_count": 16,
   "id": "0aab9060",
   "metadata": {},
   "outputs": [
    {
     "data": {
      "image/png": "[encoded data removed]",
      "text/plain": [
       "<Figure size 400x200 with 1 Axes>"
      ]
     },
     "metadata": {},
     "output_type": "display_data"
    }
   ],
   "source": [
    "plt.figure(figsize=(4, 2))\n",
    "sns.boxplot(x='People in Household', data=df)\n",
    "plt.show()\n"
   ]
  },
  {
   "cell_type": "code",
   "execution_count": 17,
   "id": "04408af1",
   "metadata": {},
   "outputs": [
    {
     "data": {
      "text/plain": [
       "Loan Required\n",
       "Yes    650\n",
       "No     554\n",
       "no       1\n",
       "Name: count, dtype: int64"
      ]
     },
     "execution_count": 17,
     "metadata": {},
     "output_type": "execute_result"
    }
   ],
   "source": [
    "df['Loan Required'].value_counts()\n"
   ]
  },
  {
   "cell_type": "code",
   "execution_count": 18,
   "id": "9d7cc0d2",
   "metadata": {},
   "outputs": [
    {
     "name": "stderr",
     "output_type": "stream",
     "text": [
      "C:\\Users\\starb\\AppData\\Local\\Temp\\ipykernel_23088\\2551562125.py:1: SettingWithCopyWarning: \n",
      "A value is trying to be set on a copy of a slice from a DataFrame\n",
      "\n",
      "See the caveats in the documentation: https://pandas.pydata.org/pandas-docs/stable/user_guide/indexing.html#returning-a-view-versus-a-copy\n",
      "  df.loc[df['Loan Required']==\"no\",'Loan Required']='No'\n"
     ]
    }
   ],
   "source": [
    "df.loc[df['Loan Required']==\"no\",'Loan Required']='No'\n"
   ]
  },
  {
   "cell_type": "code",
   "execution_count": 19,
   "id": "3344db27",
   "metadata": {},
   "outputs": [
    {
     "data": {
      "text/plain": [
       "Loan Required\n",
       "Yes    650\n",
       "No     555\n",
       "Name: count, dtype: int64"
      ]
     },
     "execution_count": 19,
     "metadata": {},
     "output_type": "execute_result"
    }
   ],
   "source": [
    "df['Loan Required'].value_counts()\n"
   ]
  },
  {
   "cell_type": "code",
   "execution_count": 20,
   "id": "3d4e9f80",
   "metadata": {},
   "outputs": [
    {
     "data": {
      "image/png": "[encoded data removed]",
      "text/plain": [
       "<Figure size 400x200 with 1 Axes>"
      ]
     },
     "metadata": {},
     "output_type": "display_data"
    }
   ],
   "source": [
    "plt.figure(figsize=(4, 2))\n",
    "sns.boxplot(x='Income of Household', data=df)\n",
    "plt.show()\n"
   ]
  },
  {
   "cell_type": "code",
   "execution_count": 21,
   "id": "611e0d1e",
   "metadata": {},
   "outputs": [
    {
     "data": {
      "image/png": "[encoded data removed]",
      "text/plain": [
       "<Figure size 400x200 with 1 Axes>"
      ]
     },
     "metadata": {},
     "output_type": "display_data"
    }
   ],
   "source": [
    "plt.figure(figsize=(4, 2))\n",
    "sns.histplot(data=df, x='Income of Household', kde=True)\n",
    "plt.show()"
   ]
  },
  {
   "cell_type": "code",
   "execution_count": 22,
   "id": "fd9fea43",
   "metadata": {},
   "outputs": [
    {
     "data": {
      "image/png": "[encoded data removed]",
      "text/plain": [
       "<Figure size 400x200 with 1 Axes>"
      ]
     },
     "metadata": {},
     "output_type": "display_data"
    }
   ],
   "source": [
    "plt.figure(figsize=(4, 2))\n",
    "sns.histplot(data=df, x='People in Household', kde=True)\n",
    "plt.show()"
   ]
  },
  {
   "cell_type": "code",
   "execution_count": 23,
   "id": "7bbd350e",
   "metadata": {},
   "outputs": [
    {
     "data": {
      "image/png": "[encoded data removed]",
      "text/plain": [
       "<Figure size 400x400 with 1 Axes>"
      ]
     },
     "metadata": {},
     "output_type": "display_data"
    }
   ],
   "source": [
    "plt.figure(figsize=(4, 4))\n",
    "#d=df.loc[:,['Income Source','Loan Required']].groupby('Income Source').agg('count')\n",
    "d=df.loc[df['Loan Required']==\"Yes\",['Income Source','Loan Required']].groupby('Income Source').agg('count')\n",
    "plt.pie(list(d['Loan Required']),labels=list(d.index),autopct='%1.1f%%')\n",
    "plt.show()\n"
   ]
  },
  {
   "cell_type": "code",
   "execution_count": 24,
   "id": "29f98c61",
   "metadata": {},
   "outputs": [
    {
     "data": {
      "image/png": "[encoded data removed]",
      "text/plain": [
       "<Figure size 400x400 with 1 Axes>"
      ]
     },
     "metadata": {},
     "output_type": "display_data"
    }
   ],
   "source": [
    "plt.figure(figsize=(4, 4))\n",
    "#d=df.loc[:,['Income Source','Loan Required']].groupby('Income Source').agg('count')\n",
    "d=df.loc[df['Loan Required']==\"No\",['Income Source','Loan Required']].groupby('Income Source').agg('count')\n",
    "plt.pie(list(d['Loan Required']),labels=list(d.index),autopct='%1.1f%%')\n",
    "plt.show()"
   ]
  },
  {
   "cell_type": "code",
   "execution_count": 47,
   "id": "9f609b58",
   "metadata": {},
   "outputs": [
    {
     "data": {
      "image/png": "[encoded data removed]",
      "text/plain": [
       "<Figure size 600x600 with 1 Axes>"
      ]
     },
     "metadata": {},
     "output_type": "display_data"
    }
   ],
   "source": [
    "labels = ['yes','no','other']\n",
    "sizes = [6,5,4]  \n",
    "explode = (0.1,0, 0)\n",
    "plt.figure(figsize=(6, 6))\n",
    "plt.pie(sizes, labels=labels, autopct='%1.1f%%', startangle=140 )\n",
    "plt.title('Distribution of Loan Required')\n",
    "plt.axis('equal') \n",
    "plt.show()\n"
   ]
  },
  {
   "cell_type": "code",
   "execution_count": 25,
   "id": "bb25f97d",
   "metadata": {},
   "outputs": [
    {
     "data": {
      "text/plain": [
       "People in Household    0\n",
       "Income of Household    0\n",
       "Income Source          6\n",
       "Vehicle Type           0\n",
       "Loan Required          6\n",
       "dtype: int64"
      ]
     },
     "execution_count": 25,
     "metadata": {},
     "output_type": "execute_result"
    }
   ],
   "source": [
    "df.isnull().sum()"
   ]
  },
  {
   "cell_type": "code",
   "execution_count": 26,
   "id": "02ffd318",
   "metadata": {},
   "outputs": [
    {
     "name": "stderr",
     "output_type": "stream",
     "text": [
      "C:\\Users\\starb\\AppData\\Local\\Temp\\ipykernel_23088\\3240501472.py:1: SettingWithCopyWarning: \n",
      "A value is trying to be set on a copy of a slice from a DataFrame\n",
      "\n",
      "See the caveats in the documentation: https://pandas.pydata.org/pandas-docs/stable/user_guide/indexing.html#returning-a-view-versus-a-copy\n",
      "  df['Income Source'].fillna(\"Business\",inplace=True)\n"
     ]
    }
   ],
   "source": [
    "df['Income Source'].fillna(\"Business\",inplace=True)"
   ]
  },
  {
   "cell_type": "code",
   "execution_count": 28,
   "id": "3f8a6fe5",
   "metadata": {},
   "outputs": [],
   "source": [
    "df = df.dropna(subset=['Loan Required'])"
   ]
  },
  {
   "cell_type": "code",
   "execution_count": 29,
   "id": "584572b9",
   "metadata": {},
   "outputs": [
    {
     "name": "stdout",
     "output_type": "stream",
     "text": [
      "Anomalies:\n",
      "Empty DataFrame\n",
      "Columns: [People in Household, Income of Household, Income Source, Vehicle Type, Loan Required]\n",
      "Index: []\n"
     ]
    }
   ],
   "source": [
    "numerical_cols = [\"People in Household\", \"Income of Household\"]\n",
    "df[numerical_cols] = df[numerical_cols].astype(float)  \n",
    "z_scores = (df[numerical_cols] - df[numerical_cols].mean()) / df[numerical_cols].std()\n",
    "\n",
    "\n",
    "threshold = 2\n",
    "anomaly_mask = (np.abs(z_scores) > threshold).any(axis=1)\n",
    "print(\"Anomalies:\")\n",
    "print(df[anomaly_mask])"
   ]
  },
  {
   "cell_type": "code",
   "execution_count": 30,
   "id": "69ea9804",
   "metadata": {},
   "outputs": [],
   "source": [
    "from sklearn.preprocessing import MinMaxScaler\n",
    "mx=MinMaxScaler()"
   ]
  },
  {
   "cell_type": "code",
   "execution_count": 31,
   "id": "a72f96b8",
   "metadata": {},
   "outputs": [],
   "source": [
    "df[\"People in Household\"]=mx.fit_transform(df[[\"People in Household\"]])"
   ]
  },
  {
   "cell_type": "code",
   "execution_count": 32,
   "id": "df33b4c9",
   "metadata": {},
   "outputs": [],
   "source": [
    "df[\"Income of Household\"]=mx.fit_transform(df[[\"Income of Household\"]])"
   ]
  },
  {
   "cell_type": "code",
   "execution_count": 33,
   "id": "ab8a0c15",
   "metadata": {},
   "outputs": [],
   "source": [
    "df_encoded = pd.get_dummies(df, columns=['Income Source', 'Vehicle Type'])"
   ]
  },
  {
   "cell_type": "code",
   "execution_count": 34,
   "id": "d934fdfa",
   "metadata": {},
   "outputs": [],
   "source": [
    "x = df_encoded.drop('Loan Required', axis=1)\n",
    "y = df_encoded['Loan Required']"
   ]
  },
  {
   "cell_type": "code",
   "execution_count": 35,
   "id": "f49bee99",
   "metadata": {},
   "outputs": [],
   "source": [
    "from sklearn.model_selection import train_test_split\n",
    "x_train,x_test,y_train,y_test=train_test_split(x,y,test_size=0.2,random_state=2529)"
   ]
  },
  {
   "cell_type": "code",
   "execution_count": 36,
   "id": "c6d1820e",
   "metadata": {},
   "outputs": [],
   "source": [
    "from sklearn.linear_model import LogisticRegression\n",
    "lr=LogisticRegression()\n"
   ]
  },
  {
   "cell_type": "code",
   "execution_count": 37,
   "id": "430d3bc3",
   "metadata": {},
   "outputs": [
    {
     "data": {
      "text/html": [
       "<style>#sk-container-id-1 {color: black;}#sk-container-id-1 pre{padding: 0;}#sk-container-id-1 div.sk-toggleable {background-color: white;}#sk-container-id-1 label.sk-toggleable__label {cursor: pointer;display: block;width: 100%;margin-bottom: 0;padding: 0.3em;box-sizing: border-box;text-align: center;}#sk-container-id-1 label.sk-toggleable__label-arrow:before {content: \"▸\";float: left;margin-right: 0.25em;color: #696969;}#sk-container-id-1 label.sk-toggleable__label-arrow:hover:before {color: black;}#sk-container-id-1 div.sk-estimator:hover label.sk-toggleable__label-arrow:before {color: black;}#sk-container-id-1 div.sk-toggleable__content {max-height: 0;max-width: 0;overflow: hidden;text-align: left;background-color: #f0f8ff;}#sk-container-id-1 div.sk-toggleable__content pre {margin: 0.2em;color: black;border-radius: 0.25em;background-color: #f0f8ff;}#sk-container-id-1 input.sk-toggleable__control:checked~div.sk-toggleable__content {max-height: 200px;max-width: 100%;overflow: auto;}#sk-container-id-1 input.sk-toggleable__control:checked~label.sk-toggleable__label-arrow:before {content: \"▾\";}#sk-container-id-1 div.sk-estimator input.sk-toggleable__control:checked~label.sk-toggleable__label {background-color: #d4ebff;}#sk-container-id-1 div.sk-label input.sk-toggleable__control:checked~label.sk-toggleable__label {background-color: #d4ebff;}#sk-container-id-1 input.sk-hidden--visually {border: 0;clip: rect(1px 1px 1px 1px);clip: rect(1px, 1px, 1px, 1px);height: 1px;margin: -1px;overflow: hidden;padding: 0;position: absolute;width: 1px;}#sk-container-id-1 div.sk-estimator {font-family: monospace;background-color: #f0f8ff;border: 1px dotted black;border-radius: 0.25em;box-sizing: border-box;margin-bottom: 0.5em;}#sk-container-id-1 div.sk-estimator:hover {background-color: #d4ebff;}#sk-container-id-1 div.sk-parallel-item::after {content: \"\";width: 100%;border-bottom: 1px solid gray;flex-grow: 1;}#sk-container-id-1 div.sk-label:hover label.sk-toggleable__label {background-color: #d4ebff;}#sk-container-id-1 div.sk-serial::before {content: \"\";position: absolute;border-left: 1px solid gray;box-sizing: border-box;top: 0;bottom: 0;left: 50%;z-index: 0;}#sk-container-id-1 div.sk-serial {display: flex;flex-direction: column;align-items: center;background-color: white;padding-right: 0.2em;padding-left: 0.2em;position: relative;}#sk-container-id-1 div.sk-item {position: relative;z-index: 1;}#sk-container-id-1 div.sk-parallel {display: flex;align-items: stretch;justify-content: center;background-color: white;position: relative;}#sk-container-id-1 div.sk-item::before, #sk-container-id-1 div.sk-parallel-item::before {content: \"\";position: absolute;border-left: 1px solid gray;box-sizing: border-box;top: 0;bottom: 0;left: 50%;z-index: -1;}#sk-container-id-1 div.sk-parallel-item {display: flex;flex-direction: column;z-index: 1;position: relative;background-color: white;}#sk-container-id-1 div.sk-parallel-item:first-child::after {align-self: flex-end;width: 50%;}#sk-container-id-1 div.sk-parallel-item:last-child::after {align-self: flex-start;width: 50%;}#sk-container-id-1 div.sk-parallel-item:only-child::after {width: 0;}#sk-container-id-1 div.sk-dashed-wrapped {border: 1px dashed gray;margin: 0 0.4em 0.5em 0.4em;box-sizing: border-box;padding-bottom: 0.4em;background-color: white;}#sk-container-id-1 div.sk-label label {font-family: monospace;font-weight: bold;display: inline-block;line-height: 1.2em;}#sk-container-id-1 div.sk-label-container {text-align: center;}#sk-container-id-1 div.sk-container {/* jupyter's `normalize.less` sets `[hidden] { display: none; }` but bootstrap.min.css set `[hidden] { display: none !important; }` so we also need the `!important` here to be able to override the default hidden behavior on the sphinx rendered scikit-learn.org. See: https://github.com/scikit-learn/scikit-learn/issues/21755 */display: inline-block !important;position: relative;}#sk-container-id-1 div.sk-text-repr-fallback {display: none;}</style><div id=\"sk-container-id-1\" class=\"sk-top-container\"><div class=\"sk-text-repr-fallback\"><pre>LogisticRegression()</pre><b>In a Jupyter environment, please rerun this cell to show the HTML representation or trust the notebook. <br />On GitHub, the HTML representation is unable to render, please try loading this page with nbviewer.org.</b></div><div class=\"sk-container\" hidden><div class=\"sk-item\"><div class=\"sk-estimator sk-toggleable\"><input class=\"sk-toggleable__control sk-hidden--visually\" id=\"sk-estimator-id-1\" type=\"checkbox\" checked><label for=\"sk-estimator-id-1\" class=\"sk-toggleable__label sk-toggleable__label-arrow\">LogisticRegression</label><div class=\"sk-toggleable__content\"><pre>LogisticRegression()</pre></div></div></div></div></div>"
      ],
      "text/plain": [
       "LogisticRegression()"
      ]
     },
     "execution_count": 37,
     "metadata": {},
     "output_type": "execute_result"
    }
   ],
   "source": [
    "lr.fit(x_train,y_train)"
   ]
  },
  {
   "cell_type": "code",
   "execution_count": 38,
   "id": "e58dee13",
   "metadata": {},
   "outputs": [
    {
     "data": {
      "text/plain": [
       "0.5311203319502075"
      ]
     },
     "execution_count": 38,
     "metadata": {},
     "output_type": "execute_result"
    }
   ],
   "source": [
    "lr.score(x_test,y_test)"
   ]
  },
  {
   "cell_type": "code",
   "execution_count": 39,
   "id": "f953eae0",
   "metadata": {},
   "outputs": [],
   "source": [
    "from sklearn.tree import DecisionTreeClassifier\n",
    "from sklearn.metrics import accuracy_score\n",
    "dtc = DecisionTreeClassifier(random_state=42)"
   ]
  },
  {
   "cell_type": "code",
   "execution_count": 40,
   "id": "7045b43a",
   "metadata": {},
   "outputs": [
    {
     "data": {
      "text/html": [
       "<style>#sk-container-id-2 {color: black;}#sk-container-id-2 pre{padding: 0;}#sk-container-id-2 div.sk-toggleable {background-color: white;}#sk-container-id-2 label.sk-toggleable__label {cursor: pointer;display: block;width: 100%;margin-bottom: 0;padding: 0.3em;box-sizing: border-box;text-align: center;}#sk-container-id-2 label.sk-toggleable__label-arrow:before {content: \"▸\";float: left;margin-right: 0.25em;color: #696969;}#sk-container-id-2 label.sk-toggleable__label-arrow:hover:before {color: black;}#sk-container-id-2 div.sk-estimator:hover label.sk-toggleable__label-arrow:before {color: black;}#sk-container-id-2 div.sk-toggleable__content {max-height: 0;max-width: 0;overflow: hidden;text-align: left;background-color: #f0f8ff;}#sk-container-id-2 div.sk-toggleable__content pre {margin: 0.2em;color: black;border-radius: 0.25em;background-color: #f0f8ff;}#sk-container-id-2 input.sk-toggleable__control:checked~div.sk-toggleable__content {max-height: 200px;max-width: 100%;overflow: auto;}#sk-container-id-2 input.sk-toggleable__control:checked~label.sk-toggleable__label-arrow:before {content: \"▾\";}#sk-container-id-2 div.sk-estimator input.sk-toggleable__control:checked~label.sk-toggleable__label {background-color: #d4ebff;}#sk-container-id-2 div.sk-label input.sk-toggleable__control:checked~label.sk-toggleable__label {background-color: #d4ebff;}#sk-container-id-2 input.sk-hidden--visually {border: 0;clip: rect(1px 1px 1px 1px);clip: rect(1px, 1px, 1px, 1px);height: 1px;margin: -1px;overflow: hidden;padding: 0;position: absolute;width: 1px;}#sk-container-id-2 div.sk-estimator {font-family: monospace;background-color: #f0f8ff;border: 1px dotted black;border-radius: 0.25em;box-sizing: border-box;margin-bottom: 0.5em;}#sk-container-id-2 div.sk-estimator:hover {background-color: #d4ebff;}#sk-container-id-2 div.sk-parallel-item::after {content: \"\";width: 100%;border-bottom: 1px solid gray;flex-grow: 1;}#sk-container-id-2 div.sk-label:hover label.sk-toggleable__label {background-color: #d4ebff;}#sk-container-id-2 div.sk-serial::before {content: \"\";position: absolute;border-left: 1px solid gray;box-sizing: border-box;top: 0;bottom: 0;left: 50%;z-index: 0;}#sk-container-id-2 div.sk-serial {display: flex;flex-direction: column;align-items: center;background-color: white;padding-right: 0.2em;padding-left: 0.2em;position: relative;}#sk-container-id-2 div.sk-item {position: relative;z-index: 1;}#sk-container-id-2 div.sk-parallel {display: flex;align-items: stretch;justify-content: center;background-color: white;position: relative;}#sk-container-id-2 div.sk-item::before, #sk-container-id-2 div.sk-parallel-item::before {content: \"\";position: absolute;border-left: 1px solid gray;box-sizing: border-box;top: 0;bottom: 0;left: 50%;z-index: -1;}#sk-container-id-2 div.sk-parallel-item {display: flex;flex-direction: column;z-index: 1;position: relative;background-color: white;}#sk-container-id-2 div.sk-parallel-item:first-child::after {align-self: flex-end;width: 50%;}#sk-container-id-2 div.sk-parallel-item:last-child::after {align-self: flex-start;width: 50%;}#sk-container-id-2 div.sk-parallel-item:only-child::after {width: 0;}#sk-container-id-2 div.sk-dashed-wrapped {border: 1px dashed gray;margin: 0 0.4em 0.5em 0.4em;box-sizing: border-box;padding-bottom: 0.4em;background-color: white;}#sk-container-id-2 div.sk-label label {font-family: monospace;font-weight: bold;display: inline-block;line-height: 1.2em;}#sk-container-id-2 div.sk-label-container {text-align: center;}#sk-container-id-2 div.sk-container {/* jupyter's `normalize.less` sets `[hidden] { display: none; }` but bootstrap.min.css set `[hidden] { display: none !important; }` so we also need the `!important` here to be able to override the default hidden behavior on the sphinx rendered scikit-learn.org. See: https://github.com/scikit-learn/scikit-learn/issues/21755 */display: inline-block !important;position: relative;}#sk-container-id-2 div.sk-text-repr-fallback {display: none;}</style><div id=\"sk-container-id-2\" class=\"sk-top-container\"><div class=\"sk-text-repr-fallback\"><pre>DecisionTreeClassifier(random_state=42)</pre><b>In a Jupyter environment, please rerun this cell to show the HTML representation or trust the notebook. <br />On GitHub, the HTML representation is unable to render, please try loading this page with nbviewer.org.</b></div><div class=\"sk-container\" hidden><div class=\"sk-item\"><div class=\"sk-estimator sk-toggleable\"><input class=\"sk-toggleable__control sk-hidden--visually\" id=\"sk-estimator-id-2\" type=\"checkbox\" checked><label for=\"sk-estimator-id-2\" class=\"sk-toggleable__label sk-toggleable__label-arrow\">DecisionTreeClassifier</label><div class=\"sk-toggleable__content\"><pre>DecisionTreeClassifier(random_state=42)</pre></div></div></div></div></div>"
      ],
      "text/plain": [
       "DecisionTreeClassifier(random_state=42)"
      ]
     },
     "execution_count": 40,
     "metadata": {},
     "output_type": "execute_result"
    }
   ],
   "source": [
    "dtc.fit(x_train, y_train)"
   ]
  },
  {
   "cell_type": "code",
   "execution_count": 41,
   "id": "e349b779",
   "metadata": {},
   "outputs": [],
   "source": [
    "y_pred = dtc.predict(x_test)"
   ]
  },
  {
   "cell_type": "code",
   "execution_count": 42,
   "id": "0bfe48d6",
   "metadata": {},
   "outputs": [
    {
     "name": "stdout",
     "output_type": "stream",
     "text": [
      "Accuracy: 0.4896265560165975\n"
     ]
    }
   ],
   "source": [
    "accuracy = accuracy_score(y_test, y_pred)\n",
    "print(f'Accuracy: {accuracy}')"
   ]
  },
  {
   "cell_type": "code",
   "execution_count": 43,
   "id": "61c2557f",
   "metadata": {},
   "outputs": [],
   "source": [
    "# Logistic Regression is the most suitable algotithm for this dataset"
   ]
  },
  {
   "cell_type": "code",
   "execution_count": 44,
   "id": "608b2588",
   "metadata": {},
   "outputs": [],
   "source": [
    "#Supervised learning techniques are better because we can train the model to make predictions based on our inputs and changes"
   ]
  },
  {
   "cell_type": "code",
   "execution_count": null,
   "id": "c7413836",
   "metadata": {},
   "outputs": [],
   "source": []
  }
 ],
 "metadata": {
  "kernelspec": {
   "display_name": "Python 3 (ipykernel)",
   "language": "python",
   "name": "python3"
  },
  "language_info": {
   "codemirror_mode": {
    "name": "ipython",
    "version": 3
   },
   "file_extension": ".py",
   "mimetype": "text/x-python",
   "name": "python",
   "nbconvert_exporter": "python",
   "pygments_lexer": "ipython3",
   "version": "3.11.5"
  }
 },
 "nbformat": 4,
 "nbformat_minor": 5
}
