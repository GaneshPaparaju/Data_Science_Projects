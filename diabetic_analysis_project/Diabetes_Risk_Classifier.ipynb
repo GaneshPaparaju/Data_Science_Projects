{
 "cells": [
  {
   "cell_type": "markdown",
   "id": "d070a2e1",
   "metadata": {},
   "source": [
    "# 🧪 Diabetes Risk Classification Project\n",
    "This notebook classifies patients into high-risk or low-risk for diabetes based on health metrics using Logistic Regression and Random Forest."
   ]
  },
  {
   "cell_type": "markdown",
   "id": "38c0b9e2",
   "metadata": {},
   "source": [
    "## 📥 Step 1: Load the Dataset"
   ]
  },
  {
   "cell_type": "code",
   "execution_count": 16,
   "id": "8d908b1a",
   "metadata": {},
   "outputs": [
    {
     "name": "stdout",
     "output_type": "stream",
     "text": [
      "     id   chol  stab.glu   hdl  ratio  glyhb    location  age  gender  height  \\\n",
      "0  1000  203.0        82  56.0    3.6   4.31  Buckingham   46  female    62.0   \n",
      "1  1001  165.0        97  24.0    6.9   4.44  Buckingham   29  female    64.0   \n",
      "2  1002  228.0        92  37.0    6.2   4.64  Buckingham   58  female    61.0   \n",
      "3  1003   78.0        93  12.0    6.5   4.63  Buckingham   67    male    67.0   \n",
      "4  1005  249.0        90  28.0    8.9   7.72  Buckingham   64    male    68.0   \n",
      "\n",
      "   weight   frame  bp.1s  bp.1d  bp.2s  bp.2d  waist   hip  time.ppn  \n",
      "0   121.0  medium  118.0   59.0    NaN    NaN   29.0  38.0     720.0  \n",
      "1   218.0   large  112.0   68.0    NaN    NaN   46.0  48.0     360.0  \n",
      "2   256.0   large  190.0   92.0  185.0   92.0   49.0  57.0     180.0  \n",
      "3   119.0   large  110.0   50.0    NaN    NaN   33.0  38.0     480.0  \n",
      "4   183.0  medium  138.0   80.0    NaN    NaN   44.0  41.0     300.0  \n"
     ]
    }
   ],
   "source": [
    "\n",
    "# Step 1: Load the Dataset\n",
    "import pandas as pd\n",
    "file_path = 'diabetes.xlsx'\n",
    "data = pd.read_excel(file_path, header=1)\n",
    "data.columns = data.columns.str.strip()\n",
    "print(data.head())\n"
   ]
  },
  {
   "cell_type": "markdown",
   "id": "8ca14eb1",
   "metadata": {},
   "source": [
    "## 🧹 Step 2: Clean Column Names"
   ]
  },
  {
   "cell_type": "code",
   "execution_count": 15,
   "id": "0620b884",
   "metadata": {},
   "outputs": [
    {
     "data": {
      "text/plain": [
       "Index(['id', 'chol', 'stab.glu', 'hdl', 'ratio', 'glyhb', 'location', 'age',\n",
       "       'gender', 'height', 'weight', 'frame', 'bp.1s', 'bp.1d', 'bp.2s',\n",
       "       'bp.2d', 'waist', 'hip', 'time.ppn'],\n",
       "      dtype='object')"
      ]
     },
     "execution_count": 15,
     "metadata": {},
     "output_type": "execute_result"
    }
   ],
   "source": [
    "data.columns = data.columns.str.strip()\n",
    "data.columns"
   ]
  },
  {
   "cell_type": "markdown",
   "id": "c6bd748d",
   "metadata": {},
   "source": [
    "## 🧼 Step 3: Impute Missing Values"
   ]
  },
  {
   "cell_type": "code",
   "execution_count": 17,
   "id": "9b1db6af",
   "metadata": {},
   "outputs": [
    {
     "name": "stdout",
     "output_type": "stream",
     "text": [
      "Missing values handled.\n"
     ]
    }
   ],
   "source": [
    "\n",
    "# Step 2: Impute Missing Values\n",
    "from sklearn.impute import SimpleImputer\n",
    "\n",
    "numeric_cols = data.select_dtypes(include=['float64', 'int64']).columns\n",
    "if len(numeric_cols) > 0:\n",
    "    imputer = SimpleImputer(strategy='mean')\n",
    "    data[numeric_cols] = imputer.fit_transform(data[numeric_cols])\n",
    "print(\"Missing values handled.\")\n"
   ]
  },
  {
   "cell_type": "markdown",
   "id": "140e8ee1",
   "metadata": {},
   "source": [
    "## 🔣 Step 4: Encode Categorical Columns"
   ]
  },
  {
   "cell_type": "code",
   "execution_count": 18,
   "id": "e6f31122",
   "metadata": {},
   "outputs": [],
   "source": [
    "categorical_cols = data.select_dtypes(include='object').columns\n",
    "data = pd.get_dummies(data, columns=categorical_cols, drop_first=True)"
   ]
  },
  {
   "cell_type": "markdown",
   "id": "8cfa0bc2",
   "metadata": {},
   "source": [
    "## 🎯 Step 5: Create Binary Classification Target from `glyhb`"
   ]
  },
  {
   "cell_type": "code",
   "execution_count": 19,
   "id": "321bd5de",
   "metadata": {},
   "outputs": [],
   "source": [
    "\n",
    "# Clean all column names: strip spaces and lowercase\n",
    "data.columns = data.columns.str.strip().str.lower()\n",
    "\n",
    "# Now this should work safely\n",
    "data['glyhb_risk'] = (data['glyhb'] > 7).astype(int)\n",
    "\n"
   ]
  },
  {
   "cell_type": "code",
   "execution_count": 21,
   "id": "8732e66d",
   "metadata": {},
   "outputs": [
    {
     "name": "stdout",
     "output_type": "stream",
     "text": [
      "   glyhb  glyhb_risk\n",
      "0   4.31           0\n",
      "1   4.44           0\n",
      "2   4.64           0\n",
      "3   4.63           0\n",
      "4   7.72           1\n"
     ]
    }
   ],
   "source": [
    "\n",
    "# Step 3: Create Target Column for Classification\n",
    "data['glyhb_risk'] = (data['glyhb'] > 7).astype(int)\n",
    "print(data[['glyhb', 'glyhb_risk']].head())\n"
   ]
  },
  {
   "cell_type": "markdown",
   "id": "c5b42e50",
   "metadata": {},
   "source": [
    "## ✂️ Step 6: Train/Test Split"
   ]
  },
  {
   "cell_type": "code",
   "execution_count": 28,
   "id": "845b9618",
   "metadata": {},
   "outputs": [],
   "source": [
    "\n",
    "# Step 4: Train-Test Split\n",
    "from sklearn.model_selection import train_test_split\n",
    "\n",
    "X = data.drop(['glyhb', 'glyhb_risk'], axis=1)\n",
    "X = pd.get_dummies(X)\n",
    "y = data['glyhb_risk']\n",
    "X_train, X_test, y_train, y_test = train_test_split(X, y, test_size=0.4, random_state=42)\n"
   ]
  },
  {
   "cell_type": "markdown",
   "id": "03ae9646",
   "metadata": {},
   "source": [
    "## 📈 Step 7: Logistic Regression"
   ]
  },
  {
   "cell_type": "code",
   "execution_count": 29,
   "id": "0403b2dc",
   "metadata": {},
   "outputs": [
    {
     "name": "stdout",
     "output_type": "stream",
     "text": [
      "Logistic Regression Accuracy: 0.9320987654320988\n",
      "[[134   3]\n",
      " [  8  17]]\n",
      "              precision    recall  f1-score   support\n",
      "\n",
      "           0       0.94      0.98      0.96       137\n",
      "           1       0.85      0.68      0.76        25\n",
      "\n",
      "    accuracy                           0.93       162\n",
      "   macro avg       0.90      0.83      0.86       162\n",
      "weighted avg       0.93      0.93      0.93       162\n",
      "\n"
     ]
    }
   ],
   "source": [
    "from sklearn.linear_model import LogisticRegression\n",
    "from sklearn.metrics import accuracy_score, classification_report, confusion_matrix\n",
    "\n",
    "log_model = LogisticRegression(max_iter=1000, solver='liblinear')\n",
    "log_model.fit(X_train, y_train)\n",
    "log_preds = log_model.predict(X_test)\n",
    "\n",
    "print(\"Logistic Regression Accuracy:\", accuracy_score(y_test, log_preds))\n",
    "print(confusion_matrix(y_test, log_preds))\n",
    "print(classification_report(y_test, log_preds))"
   ]
  },
  {
   "cell_type": "markdown",
   "id": "6c13e112",
   "metadata": {},
   "source": [
    "## 🌲 Step 8: Random Forest Classifier"
   ]
  },
  {
   "cell_type": "code",
   "execution_count": 30,
   "id": "f465d158",
   "metadata": {},
   "outputs": [
    {
     "name": "stdout",
     "output_type": "stream",
     "text": [
      "Random Forest Accuracy: 0.9320987654320988\n",
      "[[134   3]\n",
      " [  8  17]]\n",
      "              precision    recall  f1-score   support\n",
      "\n",
      "           0       0.94      0.98      0.96       137\n",
      "           1       0.85      0.68      0.76        25\n",
      "\n",
      "    accuracy                           0.93       162\n",
      "   macro avg       0.90      0.83      0.86       162\n",
      "weighted avg       0.93      0.93      0.93       162\n",
      "\n"
     ]
    }
   ],
   "source": [
    "\n",
    "# Step 6: Random Forest Model\n",
    "from sklearn.ensemble import RandomForestClassifier\n",
    "\n",
    "rf_model = RandomForestClassifier(random_state=42, max_depth=None, min_samples_split=5, n_estimators=150)\n",
    "rf_model.fit(X_train, y_train)\n",
    "rf_preds = rf_model.predict(X_test)\n",
    "\n",
    "print(\"Random Forest Accuracy:\", accuracy_score(y_test, rf_preds))\n",
    "print(confusion_matrix(y_test, rf_preds))\n",
    "print(classification_report(y_test, rf_preds))\n"
   ]
  },
  {
   "cell_type": "markdown",
   "id": "69dbe69f",
   "metadata": {},
   "source": [
    "## ⭐ Step 9: Feature Importance"
   ]
  },
  {
   "cell_type": "code",
   "execution_count": 31,
   "id": "6dae6409",
   "metadata": {},
   "outputs": [
    {
     "data": {
      "image/png": "[encoded data removed]",
      "text/plain": [
       "<Figure size 1000x800 with 1 Axes>"
      ]
     },
     "metadata": {},
     "output_type": "display_data"
    }
   ],
   "source": [
    "\n",
    "# Step 7: Feature Importance\n",
    "import matplotlib.pyplot as plt\n",
    "import numpy as np\n",
    "\n",
    "importances = rf_model.feature_importances_\n",
    "indices = np.argsort(importances)\n",
    "features = X.columns\n",
    "\n",
    "plt.figure(figsize=(10, 8))\n",
    "plt.barh(range(len(indices)), importances[indices], align='center')\n",
    "plt.yticks(range(len(indices)), [features[i] for i in indices])\n",
    "plt.title('Feature Importances')\n",
    "plt.show()\n"
   ]
  },
  {
   "cell_type": "markdown",
   "id": "afc729cd",
   "metadata": {},
   "source": [
    "## 📊 Step 10: ROC Curve"
   ]
  },
  {
   "cell_type": "code",
   "execution_count": 32,
   "id": "8096168c",
   "metadata": {},
   "outputs": [
    {
     "data": {
      "image/png": "[encoded data removed]",
      "text/plain": [
       "<Figure size 640x480 with 1 Axes>"
      ]
     },
     "metadata": {},
     "output_type": "display_data"
    }
   ],
   "source": [
    "\n",
    "# Step 8: ROC Curve\n",
    "from sklearn.metrics import roc_curve, auc\n",
    "\n",
    "rf_probs = rf_model.predict_proba(X_test)[:, 1]\n",
    "fpr, tpr, _ = roc_curve(y_test, rf_probs)\n",
    "roc_auc = auc(fpr, tpr)\n",
    "\n",
    "plt.figure()\n",
    "plt.plot(fpr, tpr, label=f'ROC Curve (AUC = {roc_auc:.2f})')\n",
    "plt.plot([0, 1], [0, 1], linestyle='--')\n",
    "plt.xlabel('False Positive Rate')\n",
    "plt.ylabel('True Positive Rate')\n",
    "plt.title('ROC Curve')\n",
    "plt.legend(loc='lower right')\n",
    "plt.show()\n"
   ]
  },
  {
   "cell_type": "markdown",
   "id": "bf505f1d",
   "metadata": {},
   "source": [
    "## ✅ Summary\n",
    "- **Best Accuracy**: 93.2% (Logistic Regression)\n",
    "- **AUC**: 0.92 (Random Forest)\n",
    "- **Top Features**: `stab.glu`, `age`, `ratio`\n",
    "- The model is effective for identifying diabetes risk based on health metrics."
   ]
  }
 ],
 "metadata": {
  "kernelspec": {
   "display_name": "Python 3 (ipykernel)",
   "language": "python",
   "name": "python3"
  },
  "language_info": {
   "codemirror_mode": {
    "name": "ipython",
    "version": 3
   },
   "file_extension": ".py",
   "mimetype": "text/x-python",
   "name": "python",
   "nbconvert_exporter": "python",
   "pygments_lexer": "ipython3",
   "version": "3.11.5"
  }
 },
 "nbformat": 4,
 "nbformat_minor": 5
}
